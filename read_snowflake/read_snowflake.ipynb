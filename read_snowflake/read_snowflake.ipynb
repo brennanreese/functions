{
 "cells": [
  {
   "cell_type": "code",
   "execution_count": null,
   "metadata": {},
   "outputs": [],
   "source": [
    "from mlrun.run import new_function\n",
    "from mlrun.runtimes import Spark3Runtime\n",
    "\n",
    "sj = new_function(kind=Spark3Runtime.kind, name=\"spark3-default-image-deploy-temp\")\n",
    "sj.spec.build.image = '.snow-spark'\n",
    "\n",
    "sj.with_executor_requests(cpu=1, mem=\"512m\", gpus=None)\n",
    "sj.with_driver_requests(cpu=1, mem=\"512m\", gpus=None)\n",
    "\n",
    "sj.spec.build.commands = [\n",
    "    'wget -q https://search.maven.org/remotecontent?filepath=net/snowflake/snowflake-jdbc/3.13.11/snowflake-jdbc-3.13.11.jar -O /spark/jars/snowflake-jdbc-3.13.11.jar',\n",
    "    'wget -q https://repo1.maven.org/maven2/net/snowflake/spark-snowflake_2.12/2.9.0-spark_3.1/spark-snowflake_2.12-2.9.0-spark_3.1.jar -O /spark/jars/spark-snowflake_2.12-2.9.0-spark_3.1.jar',\n",
    "    'wget -q https://repo1.maven.org/maven2/net/snowflake/snowflake-ingest-sdk/0.10.2/snowflake-ingest-sdk-0.10.2.jar -O /spark/jars/snowflake-ingest-sdk-0.10.2.jar'\n",
    "]\n",
    "sj.deploy()"
   ]
  },
  {
   "cell_type": "code",
   "execution_count": 1,
   "metadata": {},
   "outputs": [],
   "source": [
    "from mlrun import code_to_function\n",
    "\n",
    "sj = code_to_function(\"read_snowflake\", \n",
    "                     filename=\"read_snowflake.py\", \n",
    "                     handler=\"read_snowflake\",\n",
    "                     kind=\"spark\"\n",
    "                     )\n",
    "sj.with_driver_requests(mem=\"4096m\")\n",
    "sj.with_executor_requests(mem=\"4096m\")\n",
    "sj.spec.image = \".snow-spark\"\n",
    "sj.with_igz_spark()"
   ]
  },
  {
   "cell_type": "code",
   "execution_count": 2,
   "metadata": {},
   "outputs": [
    {
     "name": "stdout",
     "output_type": "stream",
     "text": [
      "> 2022-03-10 12:23:08,129 [info] function spec saved to path: function.yaml\n"
     ]
    },
    {
     "data": {
      "text/plain": [
       "<mlrun.runtimes.sparkjob.spark3job.Spark3Runtime at 0x7fe95d986790>"
      ]
     },
     "execution_count": 2,
     "metadata": {},
     "output_type": "execute_result"
    }
   ],
   "source": [
    "sj.export()"
   ]
  }
 ],
 "metadata": {
  "interpreter": {
   "hash": "57ce1245a0b9c34e8c53a9a292c3efe15849f88b7b7130d735d3eca6a153faa6"
  },
  "kernelspec": {
   "display_name": "Python 3.7.6 ('uss-igz32')",
   "language": "python",
   "name": "python3"
  },
  "language_info": {
   "codemirror_mode": {
    "name": "ipython",
    "version": 3
   },
   "file_extension": ".py",
   "mimetype": "text/x-python",
   "name": "python",
   "nbconvert_exporter": "python",
   "pygments_lexer": "ipython3",
   "version": "3.7.6"
  },
  "orig_nbformat": 4
 },
 "nbformat": 4,
 "nbformat_minor": 2
}
