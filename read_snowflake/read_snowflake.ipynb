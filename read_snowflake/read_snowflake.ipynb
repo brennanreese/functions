{
 "cells": [
  {
   "cell_type": "code",
   "execution_count": null,
   "metadata": {},
   "outputs": [],
   "source": [
    "# This section has to be invoked once per MLRun/Iguazio upgrade\n",
    "from mlrun.runtimes import RemoteSparkRuntime\n",
    "RemoteSparkRuntime.deploy_default_image()"
   ]
  },
  {
   "cell_type": "code",
   "execution_count": 1,
   "metadata": {},
   "outputs": [],
   "source": [
    "from mlrun import code_to_function\n",
    "\n",
    "sj = code_to_function(\"read_snowflake\", \n",
    "                     filename=\"read_snowflake.py\", \n",
    "                     handler=\"read_snowflake\",\n",
    "                     kind=\"spark\"\n",
    "                     )\n",
    "sj.with_driver_requests(mem=\"4096m\")\n",
    "sj.with_executor_requests(mem=\"4096m\")\n",
    "sj.spec.use_default_image = True\n",
    "sj.with_igz_spark()"
   ]
  },
  {
   "cell_type": "code",
   "execution_count": 2,
   "metadata": {},
   "outputs": [
    {
     "name": "stdout",
     "output_type": "stream",
     "text": [
      "> 2022-03-10 12:23:08,129 [info] function spec saved to path: function.yaml\n"
     ]
    },
    {
     "data": {
      "text/plain": [
       "<mlrun.runtimes.sparkjob.spark3job.Spark3Runtime at 0x7fe95d986790>"
      ]
     },
     "execution_count": 2,
     "metadata": {},
     "output_type": "execute_result"
    }
   ],
   "source": [
    "sj.export()"
   ]
  },
  {
   "cell_type": "code",
   "execution_count": null,
   "metadata": {},
   "outputs": [],
   "source": [
    "from mlrun import import_function\n",
    "fx = import_function(\"hub://read_snowflake\")\n",
    "\n",
    "fx.with_igz_spark()\n",
    "\n",
    "# Create secrets for Snowflake URL, User, and Password via API or UI \n",
    "fx.run(params={\"url\": \"sfURL\",\n",
    "               \"user\": \"sfUser\",\n",
    "               \"password\": \"sfPassword\",\n",
    "               \"db\": \"snowflake_sample_data\", \n",
    "               \"schema\": \"tpch_sf1\", \n",
    "               \"warehouse\": \"compute_wh\", \n",
    "               \"query\": \"select * from customer limit 100\", \n",
    "               \"target\": \"v3io://bigdata/features/customer.parquet\"}).with_secrets('kubernetes', ['sfURL', 'sfUser', 'sfPassword'])"
   ]
  }
 ],
 "metadata": {
  "interpreter": {
   "hash": "57ce1245a0b9c34e8c53a9a292c3efe15849f88b7b7130d735d3eca6a153faa6"
  },
  "kernelspec": {
   "display_name": "Python 3.7.6 ('uss-igz32')",
   "language": "python",
   "name": "python3"
  },
  "language_info": {
   "codemirror_mode": {
    "name": "ipython",
    "version": 3
   },
   "file_extension": ".py",
   "mimetype": "text/x-python",
   "name": "python",
   "nbconvert_exporter": "python",
   "pygments_lexer": "ipython3",
   "version": "3.7.6"
  },
  "orig_nbformat": 4
 },
 "nbformat": 4,
 "nbformat_minor": 2
}
